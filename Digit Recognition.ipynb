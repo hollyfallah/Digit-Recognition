{
 "cells": [
  {
   "cell_type": "code",
   "execution_count": 10,
   "metadata": {
    "collapsed": true
   },
   "outputs": [],
   "source": [
    "import pandas as pd\n",
    "from pandas import DataFrame as df\n",
    "import numpy as np\n",
    "import plotly.plotly as py\n",
    "from plotly.graph_objs import *\n",
    "import plotly.tools as tls\n",
    "from PIL import Image\n",
    "from sklearn.preprocessing import StandardScaler\n",
    "from sklearn.decomposition import PCA\n",
    "import matplotlib.pyplot as plt\n",
    "from sklearn import tree\n",
    "from sklearn.model_selection import train_test_split\n",
    "from sklearn.linear_model import LogisticRegression"
   ]
  },
  {
   "cell_type": "code",
   "execution_count": 2,
   "metadata": {
    "collapsed": true
   },
   "outputs": [],
   "source": [
    "#Read In\n",
    "train = pd.read_csv(r\"C:\\Users\\hfallah\\OneDrive - Itron\\Desktop\\all\\train.csv\")\n",
    "data = train.iloc[:,1:].values\n",
    "label = train.iloc[:,:1].values"
   ]
  },
  {
   "cell_type": "code",
   "execution_count": 3,
   "metadata": {
    "collapsed": true
   },
   "outputs": [],
   "source": [
    "#Split to train test\n",
    "train_data, test_data, train_label, test_label = train_test_split(data, label, test_size=0.5, random_state=0)"
   ]
  },
  {
   "cell_type": "code",
   "execution_count": 16,
   "metadata": {},
   "outputs": [
    {
     "data": {
      "image/png": "[encoded data removed]",
      "text/plain": [
       "<PIL.Image.Image image mode=L size=28x28 at 0x1AD03D15208>"
      ]
     },
     "execution_count": 16,
     "metadata": {},
     "output_type": "execute_result"
    }
   ],
   "source": [
    "#Data Exploration - One row = one image.\n",
    "#One variation of digit '1'.\n",
    "matrix = train.iloc[0,1:].values.reshape((28,28))\n",
    "Image.fromarray(matrix.astype(np.uint8))"
   ]
  },
  {
   "cell_type": "code",
   "execution_count": 17,
   "metadata": {},
   "outputs": [
    {
     "data": {
      "image/png": "[encoded data removed]",
      "text/plain": [
       "<PIL.Image.Image image mode=L size=28x28 at 0x1AD03D15320>"
      ]
     },
     "execution_count": 17,
     "metadata": {},
     "output_type": "execute_result"
    }
   ],
   "source": [
    "#Second variation of digit '1'.\n",
    "matrix = train.iloc[2,1:].values.reshape((28,28))\n",
    "Image.fromarray(matrix.astype(np.uint8))"
   ]
  },
  {
   "cell_type": "code",
   "execution_count": 7,
   "metadata": {},
   "outputs": [
    {
     "data": {
      "image/png": "[encoded data removed]",
      "text/plain": [
       "<matplotlib.figure.Figure at 0x1ad7d6c5ef0>"
      ]
     },
     "metadata": {},
     "output_type": "display_data"
    }
   ],
   "source": [
    "#Data Exploration - Histogram of pixel values\n",
    "plt.hist(np.reshape(data,(32928000,1)))\n",
    "plt.show()"
   ]
  },
  {
   "cell_type": "code",
   "execution_count": 18,
   "metadata": {},
   "outputs": [
    {
     "data": {
      "text/plain": [
       "1    4684\n",
       "7    4401\n",
       "3    4351\n",
       "9    4188\n",
       "2    4177\n",
       "6    4137\n",
       "0    4132\n",
       "4    4072\n",
       "8    4063\n",
       "5    3795\n",
       "Name: 0, dtype: int64"
      ]
     },
     "execution_count": 18,
     "metadata": {},
     "output_type": "execute_result"
    }
   ],
   "source": [
    "#Data Exploration - Distribution of Digit Frequency\n",
    "pd.DataFrame(label)[0].value_counts()"
   ]
  },
  {
   "cell_type": "code",
   "execution_count": 20,
   "metadata": {},
   "outputs": [
    {
     "data": {
      "image/png": "[encoded data removed]",
      "text/plain": [
       "<matplotlib.figure.Figure at 0x1ad03d855f8>"
      ]
     },
     "metadata": {},
     "output_type": "display_data"
    }
   ],
   "source": [
    "#Data Exploration - Distribution of Digit Frequency\n",
    "plt.hist(label)\n",
    "plt.show()"
   ]
  },
  {
   "cell_type": "code",
   "execution_count": 22,
   "metadata": {},
   "outputs": [
    {
     "data": {
      "text/html": [
       "<div>\n",
       "<style>\n",
       "    .dataframe thead tr:only-child th {\n",
       "        text-align: right;\n",
       "    }\n",
       "\n",
       "    .dataframe thead th {\n",
       "        text-align: left;\n",
       "    }\n",
       "\n",
       "    .dataframe tbody tr th {\n",
       "        vertical-align: top;\n",
       "    }\n",
       "</style>\n",
       "<table border=\"1\" class=\"dataframe\">\n",
       "  <thead>\n",
       "    <tr style=\"text-align: right;\">\n",
       "      <th></th>\n",
       "      <th>Components</th>\n",
       "      <th>Depth</th>\n",
       "      <th>Accuracy</th>\n",
       "    </tr>\n",
       "  </thead>\n",
       "  <tbody>\n",
       "    <tr>\n",
       "      <th>0</th>\n",
       "      <td>10</td>\n",
       "      <td>5</td>\n",
       "      <td>0.626762</td>\n",
       "    </tr>\n",
       "    <tr>\n",
       "      <th>1</th>\n",
       "      <td>10</td>\n",
       "      <td>25</td>\n",
       "      <td>0.799476</td>\n",
       "    </tr>\n",
       "    <tr>\n",
       "      <th>2</th>\n",
       "      <td>10</td>\n",
       "      <td>100</td>\n",
       "      <td>0.795429</td>\n",
       "    </tr>\n",
       "    <tr>\n",
       "      <th>3</th>\n",
       "      <td>10</td>\n",
       "      <td>200</td>\n",
       "      <td>0.796429</td>\n",
       "    </tr>\n",
       "    <tr>\n",
       "      <th>4</th>\n",
       "      <td>10</td>\n",
       "      <td>500</td>\n",
       "      <td>0.796095</td>\n",
       "    </tr>\n",
       "    <tr>\n",
       "      <th>5</th>\n",
       "      <td>20</td>\n",
       "      <td>5</td>\n",
       "      <td>0.627143</td>\n",
       "    </tr>\n",
       "    <tr>\n",
       "      <th>6</th>\n",
       "      <td>20</td>\n",
       "      <td>25</td>\n",
       "      <td>0.820429</td>\n",
       "    </tr>\n",
       "    <tr>\n",
       "      <th>7</th>\n",
       "      <td>20</td>\n",
       "      <td>100</td>\n",
       "      <td>0.821714</td>\n",
       "    </tr>\n",
       "    <tr>\n",
       "      <th>8</th>\n",
       "      <td>20</td>\n",
       "      <td>200</td>\n",
       "      <td>0.822667</td>\n",
       "    </tr>\n",
       "    <tr>\n",
       "      <th>9</th>\n",
       "      <td>20</td>\n",
       "      <td>500</td>\n",
       "      <td>0.823238</td>\n",
       "    </tr>\n",
       "    <tr>\n",
       "      <th>10</th>\n",
       "      <td>50</td>\n",
       "      <td>5</td>\n",
       "      <td>0.627095</td>\n",
       "    </tr>\n",
       "    <tr>\n",
       "      <th>11</th>\n",
       "      <td>50</td>\n",
       "      <td>25</td>\n",
       "      <td>0.808905</td>\n",
       "    </tr>\n",
       "    <tr>\n",
       "      <th>12</th>\n",
       "      <td>50</td>\n",
       "      <td>100</td>\n",
       "      <td>0.811381</td>\n",
       "    </tr>\n",
       "    <tr>\n",
       "      <th>13</th>\n",
       "      <td>50</td>\n",
       "      <td>200</td>\n",
       "      <td>0.812619</td>\n",
       "    </tr>\n",
       "    <tr>\n",
       "      <th>14</th>\n",
       "      <td>50</td>\n",
       "      <td>500</td>\n",
       "      <td>0.807381</td>\n",
       "    </tr>\n",
       "    <tr>\n",
       "      <th>15</th>\n",
       "      <td>100</td>\n",
       "      <td>5</td>\n",
       "      <td>0.627381</td>\n",
       "    </tr>\n",
       "    <tr>\n",
       "      <th>16</th>\n",
       "      <td>100</td>\n",
       "      <td>25</td>\n",
       "      <td>0.802095</td>\n",
       "    </tr>\n",
       "    <tr>\n",
       "      <th>17</th>\n",
       "      <td>100</td>\n",
       "      <td>100</td>\n",
       "      <td>0.803143</td>\n",
       "    </tr>\n",
       "    <tr>\n",
       "      <th>18</th>\n",
       "      <td>100</td>\n",
       "      <td>200</td>\n",
       "      <td>0.799381</td>\n",
       "    </tr>\n",
       "    <tr>\n",
       "      <th>19</th>\n",
       "      <td>100</td>\n",
       "      <td>500</td>\n",
       "      <td>0.804286</td>\n",
       "    </tr>\n",
       "    <tr>\n",
       "      <th>20</th>\n",
       "      <td>200</td>\n",
       "      <td>5</td>\n",
       "      <td>0.627476</td>\n",
       "    </tr>\n",
       "    <tr>\n",
       "      <th>21</th>\n",
       "      <td>200</td>\n",
       "      <td>25</td>\n",
       "      <td>0.795476</td>\n",
       "    </tr>\n",
       "    <tr>\n",
       "      <th>22</th>\n",
       "      <td>200</td>\n",
       "      <td>100</td>\n",
       "      <td>0.794619</td>\n",
       "    </tr>\n",
       "    <tr>\n",
       "      <th>23</th>\n",
       "      <td>200</td>\n",
       "      <td>200</td>\n",
       "      <td>0.795143</td>\n",
       "    </tr>\n",
       "    <tr>\n",
       "      <th>24</th>\n",
       "      <td>200</td>\n",
       "      <td>500</td>\n",
       "      <td>0.795571</td>\n",
       "    </tr>\n",
       "    <tr>\n",
       "      <th>25</th>\n",
       "      <td>400</td>\n",
       "      <td>5</td>\n",
       "      <td>0.627333</td>\n",
       "    </tr>\n",
       "    <tr>\n",
       "      <th>26</th>\n",
       "      <td>400</td>\n",
       "      <td>25</td>\n",
       "      <td>0.786524</td>\n",
       "    </tr>\n",
       "    <tr>\n",
       "      <th>27</th>\n",
       "      <td>400</td>\n",
       "      <td>100</td>\n",
       "      <td>0.785190</td>\n",
       "    </tr>\n",
       "    <tr>\n",
       "      <th>28</th>\n",
       "      <td>400</td>\n",
       "      <td>200</td>\n",
       "      <td>0.784381</td>\n",
       "    </tr>\n",
       "    <tr>\n",
       "      <th>29</th>\n",
       "      <td>400</td>\n",
       "      <td>500</td>\n",
       "      <td>0.787810</td>\n",
       "    </tr>\n",
       "  </tbody>\n",
       "</table>\n",
       "</div>"
      ],
      "text/plain": [
       "    Components  Depth  Accuracy\n",
       "0           10      5  0.626762\n",
       "1           10     25  0.799476\n",
       "2           10    100  0.795429\n",
       "3           10    200  0.796429\n",
       "4           10    500  0.796095\n",
       "5           20      5  0.627143\n",
       "6           20     25  0.820429\n",
       "7           20    100  0.821714\n",
       "8           20    200  0.822667\n",
       "9           20    500  0.823238\n",
       "10          50      5  0.627095\n",
       "11          50     25  0.808905\n",
       "12          50    100  0.811381\n",
       "13          50    200  0.812619\n",
       "14          50    500  0.807381\n",
       "15         100      5  0.627381\n",
       "16         100     25  0.802095\n",
       "17         100    100  0.803143\n",
       "18         100    200  0.799381\n",
       "19         100    500  0.804286\n",
       "20         200      5  0.627476\n",
       "21         200     25  0.795476\n",
       "22         200    100  0.794619\n",
       "23         200    200  0.795143\n",
       "24         200    500  0.795571\n",
       "25         400      5  0.627333\n",
       "26         400     25  0.786524\n",
       "27         400    100  0.785190\n",
       "28         400    200  0.784381\n",
       "29         400    500  0.787810"
      ]
     },
     "execution_count": 22,
     "metadata": {},
     "output_type": "execute_result"
    }
   ],
   "source": [
    "#Model 1\n",
    "def numAccuracy(train_data, test_data, test_label, numComponents, maxDepth):\n",
    "    pca = PCA(n_components=numComponents)\n",
    "    \n",
    "    pca.fit(train_data)\n",
    "    pca_matrix_train=pca.transform(train_data)\n",
    "    pca_matrix_test=pca.transform(test_data)\n",
    "\n",
    "    clf = tree.DecisionTreeClassifier(max_depth=maxDepth)\n",
    "    clf = clf.fit(pca_matrix_train, train_label)\n",
    "    predict = clf.predict(pca_matrix_test)\n",
    "\n",
    "\n",
    "    #check if model is correct against actuals\n",
    "    check_table=pd.DataFrame(predict, columns=['Predicted'])\n",
    "    test_label = pd.DataFrame(test_label).reset_index(drop=True)\n",
    "    check_table2 = check_table.join(test_label)\n",
    "    check_table2.columns=['Predicted', 'Actual']\n",
    "    check_table2['match'] = (check_table2['Predicted']==check_table2['Actual'])\n",
    "    \n",
    "    acc = check_table2['match'].sum()*1.0/check_table2['match'].count()\n",
    "    return acc\n",
    "\n",
    "#Check model accuracy\n",
    "import itertools\n",
    "Components = [10,20,50,100,200,400]\n",
    "Depth = [5,25,100,200,500]\n",
    "Results = list(itertools.product(Components, Depth))\n",
    "Results = pd.DataFrame(Results, columns=['Components','Depth'])\n",
    "y = [numAccuracy(train_data, test_data, test_label, num, num2) for num in Components for num2 in Depth]\n",
    "Results['Accuracy']= pd.DataFrame(y)\n",
    "Results"
   ]
  },
  {
   "cell_type": "code",
   "execution_count": 32,
   "metadata": {},
   "outputs": [
    {
     "data": {
      "image/png": "[encoded data removed]",
      "text/plain": [
       "<matplotlib.figure.Figure at 0x1ad04478828>"
      ]
     },
     "metadata": {},
     "output_type": "display_data"
    }
   ],
   "source": [
    "#Scatter Plot of Results\n",
    "from mpl_toolkits import mplot3d\n",
    "ax = plt.axes(projection='3d')\n",
    "ax.scatter(Results['Components'], Results['Depth'], Results['Accuracy'],c='m', marker='o')\n",
    "ax.set_xlabel('Number of Components')\n",
    "ax.set_ylabel('Depth Value')\n",
    "ax.set_zlabel('Accuracy')\n",
    "ymax = max(Results['Accuracy'])\n",
    "xpos = y.index(ymax)\n",
    "xmax = Results['Components'][xpos]\n",
    "xmax2 = Results['Depth'][xpos]\n",
    "\n",
    "ax.text(xmax, ymax, zmax, 'max')\n",
    "plt.show()"
   ]
  },
  {
   "cell_type": "code",
   "execution_count": null,
   "metadata": {},
   "outputs": [],
   "source": [
    "#Model 2\n",
    "def numAccuracy2(train_data, test_data, test_label, numComponents):\n",
    "    pca = PCA(n_components=numComponents)\n",
    "    \n",
    "    pca.fit(train_data)\n",
    "    pca_matrix_train=pca.transform(train_data)\n",
    "    pca_matrix_test=pca.transform(test_data)\n",
    "\n",
    "    logisticRegr = LogisticRegression(solver = 'lbfgs')\n",
    "    logisticRegr.fit(pca_matrix_train, train_label)\n",
    "    logisticRegr.predict(pca_matrix_test)\n",
    "\n",
    "\n",
    "    #check if model is correct against actuals\n",
    "    score = logisticRegr.score(pca_matrix_test, test_label)\n",
    "    return score\n",
    "\n",
    "#Check model accuracy\n",
    "x = [1,50,100,150,200,250,300,350,400,450,500,550,600]\n",
    "y = [numAccuracy2(train_data, test_data, test_label.values.ravel(), num) for num in x]"
   ]
  },
  {
   "cell_type": "code",
   "execution_count": 38,
   "metadata": {},
   "outputs": [
    {
     "data": {
      "image/png": "[encoded data removed]",
      "text/plain": [
       "<matplotlib.figure.Figure at 0x1ad04836240>"
      ]
     },
     "metadata": {},
     "output_type": "display_data"
    }
   ],
   "source": [
    "plt.plot(x,y)\n",
    "plt.show()"
   ]
  },
  {
   "cell_type": "code",
   "execution_count": null,
   "metadata": {
    "collapsed": true
   },
   "outputs": [],
   "source": [
    "#Produce Results on Test Dataset using Model 2\n",
    "test=pd.read_csv(r\"C:\\Users\\hfallah\\OneDrive - Itron\\Desktop\\all\\test.csv\")\n",
    "data=train.iloc[:,1:].values\n",
    "label=train.iloc[:,:1].values\n",
    "\n",
    "pca = PCA(n_components=250)\n",
    "\n",
    "pca.fit(train)\n",
    "pca_matrix_train=pca.transform(train)\n",
    "pca_matrix_test=pca.transform(test)\n",
    "\n",
    "logisticRegr = LogisticRegression(solver = 'lbfgs')\n",
    "logisticRegr.fit(pca_matrix_train, label)\n",
    "result=logisticRegr.predict(pca_matrix_test)\n",
    "\n",
    "\n",
    "result=pd.DataFrame(result, columns=['Predicted'])\n",
    "result = result.join(pd.DataFrame(test))\n",
    "result.to_csv(r\"C:\\Users\\hfallah\\OneDrive - Itron\\Desktop\\all\\Result.csv\")"
   ]
  }
 ],
 "metadata": {
  "kernelspec": {
   "display_name": "Python 3",
   "language": "python",
   "name": "python3"
  },
  "language_info": {
   "codemirror_mode": {
    "name": "ipython",
    "version": 3
   },
   "file_extension": ".py",
   "mimetype": "text/x-python",
   "name": "python",
   "nbconvert_exporter": "python",
   "pygments_lexer": "ipython3",
   "version": "3.6.3"
  }
 },
 "nbformat": 4,
 "nbformat_minor": 2
}
